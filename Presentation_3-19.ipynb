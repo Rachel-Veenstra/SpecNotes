{
 "cells": [
  {
   "cell_type": "markdown",
   "metadata": {},
   "source": [
    "# PROGRESS REPORT #1\n",
    "##### Rachel Veenstra\n",
    "##### March 19, 2019"
   ]
  },
  {
   "cell_type": "markdown",
   "metadata": {},
   "source": [
    "## Outcomes Accomplished:"
   ]
  },
  {
   "cell_type": "markdown",
   "metadata": {},
   "source": [
    "### Import .csv files from the KSU Crops dropbox.\n"
   ]
  },
  {
   "cell_type": "markdown",
   "metadata": {},
   "source": [
    "- Path for accessing files in dropbox is user-dependent\n",
    "- Prompts used to identify user and navigate to dropbox on computer"
   ]
  },
  {
   "cell_type": "code",
   "execution_count": 1,
   "metadata": {},
   "outputs": [
    {
     "name": "stdout",
     "output_type": "stream",
     "text": [
      "Hello! Please provide your user name so the necessary files on this computer can be accessed.\n"
     ]
    },
    {
     "name": "stdin",
     "output_type": "stream",
     "text": [
      " Rachel Veenstra\n"
     ]
    },
    {
     "name": "stdout",
     "output_type": "stream",
     "text": [
      "Please provide the name of a nitrate datasheet:\n"
     ]
    },
    {
     "name": "stdin",
     "output_type": "stream",
     "text": [
      " LIF Ashland Nit 12-13-18\n"
     ]
    },
    {
     "name": "stdout",
     "output_type": "stream",
     "text": [
      "Please provide the name of the corresponding ureide datasheet:\n"
     ]
    },
    {
     "name": "stdin",
     "output_type": "stream",
     "text": [
      " LIF Ashland 11-15-18\n"
     ]
    }
   ],
   "source": [
    "import glob\n",
    "import pandas as pd\n",
    "\n",
    "print(\"Hello! Please provide your user name so the necessary files on this computer can be accessed.\")\n",
    "user_name = input()\n",
    "\n",
    "data_file_n = '/Users/' + user_name + \n",
    "'/Dropbox/CropProdLabKSU/Lab Analysis/VISIONlite Results/Nitrates'\n",
    "\n",
    "glob.os.chdir(data_file_n)\n",
    "\n",
    "print(\"Please provide the name of a nitrate datasheet:\")\n",
    "n_data = input()\n",
    "\n",
    "nit_df = pd.read_csv(str(n_data) + '.csv')\n",
    "\n",
    "data_file_u = '/Users/' + user_name + \n",
    "'/Dropbox/CropProdLabKSU/Lab Analysis/VISIONlite Results/Ureides'\n",
    "\n",
    "glob.os.chdir(data_file_u)\n",
    "\n",
    "print('Please provide the name of the corresponding ureide datasheet:')\n",
    "u_data = input()\n",
    "\n",
    "ur_df = pd.read_csv(str(u_data) + '.csv')"
   ]
  },
  {
   "cell_type": "code",
   "execution_count": 2,
   "metadata": {},
   "outputs": [
    {
     "name": "stdout",
     "output_type": "stream",
     "text": [
      "  Sample Name  410 nm   [A]\n",
      "0         1_1         0.004\n",
      "1         1_2         0.003\n",
      "2         2_1         0.001\n",
      "3         2_2         0.003\n",
      "4        0.00         0.006\n",
      "  Sample Name  535 nm   [A]\n",
      "0         1_1         0.008\n",
      "1         1_2         0.005\n",
      "2         2_1         0.004\n",
      "3         2_2         0.005\n",
      "4        0.00         0.003\n"
     ]
    }
   ],
   "source": [
    "print(nit_df.head())\n",
    "print(ur_df.head())"
   ]
  },
  {
   "cell_type": "markdown",
   "metadata": {},
   "source": [
    "### Recognize that there are two repetitions for each sample, quantify the variance between the two, and take the mean of samples with acceptable variance."
   ]
  },
  {
   "cell_type": "code",
   "execution_count": 23,
   "metadata": {},
   "outputs": [
    {
     "data": {
      "text/html": [
       "<div>\n",
       "<style scoped>\n",
       "    .dataframe tbody tr th:only-of-type {\n",
       "        vertical-align: middle;\n",
       "    }\n",
       "\n",
       "    .dataframe tbody tr th {\n",
       "        vertical-align: top;\n",
       "    }\n",
       "\n",
       "    .dataframe thead th {\n",
       "        text-align: right;\n",
       "    }\n",
       "</style>\n",
       "<table border=\"1\" class=\"dataframe\">\n",
       "  <thead>\n",
       "    <tr style=\"text-align: right;\">\n",
       "      <th></th>\n",
       "      <th>ID</th>\n",
       "      <th>Abs</th>\n",
       "      <th>Mean</th>\n",
       "      <th>Var</th>\n",
       "    </tr>\n",
       "  </thead>\n",
       "  <tbody>\n",
       "    <tr>\n",
       "      <th>16</th>\n",
       "      <td>LIF-241</td>\n",
       "      <td>1.181</td>\n",
       "      <td>1.187</td>\n",
       "      <td>0.010059</td>\n",
       "    </tr>\n",
       "    <tr>\n",
       "      <th>17</th>\n",
       "      <td>LIF-241</td>\n",
       "      <td>1.193</td>\n",
       "      <td>1.187</td>\n",
       "      <td>0.010059</td>\n",
       "    </tr>\n",
       "    <tr>\n",
       "      <th>18</th>\n",
       "      <td>LIF-242</td>\n",
       "      <td>1.101</td>\n",
       "      <td>1.122</td>\n",
       "      <td>0.036745</td>\n",
       "    </tr>\n",
       "    <tr>\n",
       "      <th>19</th>\n",
       "      <td>LIF-242</td>\n",
       "      <td>1.143</td>\n",
       "      <td>1.122</td>\n",
       "      <td>0.036745</td>\n",
       "    </tr>\n",
       "  </tbody>\n",
       "</table>\n",
       "</div>"
      ],
      "text/plain": [
       "         ID    Abs   Mean       Var\n",
       "16  LIF-241  1.181  1.187  0.010059\n",
       "17  LIF-241  1.193  1.187  0.010059\n",
       "18  LIF-242  1.101  1.122  0.036745\n",
       "19  LIF-242  1.143  1.122  0.036745"
      ]
     },
     "execution_count": 23,
     "metadata": {},
     "output_type": "execute_result"
    }
   ],
   "source": [
    "nit_df.rename(columns = {'Sample Name':'ID', '410 nm   [A]':'B'}, inplace=True)\n",
    "\n",
    "nit_g = nit_df.groupby('ID')\n",
    "\n",
    "nit_final=nit_df.merge(nit_g.mean(),on='ID')\n",
    "nit_final2=nit_final.merge(abs(nit_g.max()-nit_g.min())/nit_g.max(), on='ID')\n",
    "nit_final2.rename(columns = {'B':'Var', 'B_x':'Abs', 'B_y':'Mean'}, inplace=True)\n",
    "\n",
    "nit_final2[16:20]"
   ]
  },
  {
   "cell_type": "markdown",
   "metadata": {},
   "source": [
    "### Generate a curve based on the intersection of the concentration and absorbance values of the standards, and export for later viewing.\n"
   ]
  },
  {
   "cell_type": "code",
   "execution_count": 10,
   "metadata": {},
   "outputs": [
    {
     "name": "stdout",
     "output_type": "stream",
     "text": [
      "Nitrate Calibration Curve\n"
     ]
    },
    {
     "data": {
      "image/png": "[encoded data removed]",
      "text/plain": [
       "<Figure size 432x288 with 1 Axes>"
      ]
     },
     "metadata": {
      "needs_background": "light"
     },
     "output_type": "display_data"
    },
    {
     "name": "stdout",
     "output_type": "stream",
     "text": [
      "absorbance = 0.000103(concentration) + 0.005967\n",
      "concentration = (absorbance - 0.005967) / 0.000103\n"
     ]
    }
   ],
   "source": [
    "import matplotlib.pylab as plt\n",
    "import pylab\n",
    "import numpy\n",
    "\n",
    "c = (0,0,0,1500,1500,1500,3000,3000,3000,4500,4500,4500)\n",
    "a = nit_final2.iloc[4:16, 1]\n",
    "m = nit_final2.iloc[4:16, 2]\n",
    "\n",
    "pylab.plot(c, a, \"ro\")\n",
    "pylab.plot(c, m,'bx')\n",
    "pylab.ylabel(\"Absorbance Value\")\n",
    "pylab.xlabel(\"Concentration ppm\")\n",
    "\n",
    "z = numpy.polyfit(c, m, 1, rcond=None, full=False, w=None, cov=False)\n",
    "p = numpy.poly1d(z)\n",
    "pylab.plot(c, p(c),\"k--\")\n",
    "print(\"Nitrate Calibration Curve\")\n",
    "pylab.show()\n",
    "print(\"absorbance = %.6f(concentration) + %.6f\"%(z[0],z[1]))\n",
    "print(\"concentration = (absorbance - %.6f) / %.6f\"%(z[1],z[0]))\n",
    "\n",
    "x=z[1]\n",
    "y=z[0]"
   ]
  },
  {
   "cell_type": "markdown",
   "metadata": {},
   "source": [
    "### Plot absorbance means of each sample on the curve to yield final concentration values, throwing an error message for samples with unacceptable variance values.\n"
   ]
  },
  {
   "cell_type": "code",
   "execution_count": 22,
   "metadata": {},
   "outputs": [
    {
     "data": {
      "text/html": [
       "<div>\n",
       "<style scoped>\n",
       "    .dataframe tbody tr th:only-of-type {\n",
       "        vertical-align: middle;\n",
       "    }\n",
       "\n",
       "    .dataframe tbody tr th {\n",
       "        vertical-align: top;\n",
       "    }\n",
       "\n",
       "    .dataframe thead th {\n",
       "        text-align: right;\n",
       "    }\n",
       "</style>\n",
       "<table border=\"1\" class=\"dataframe\">\n",
       "  <thead>\n",
       "    <tr style=\"text-align: right;\">\n",
       "      <th></th>\n",
       "      <th>ID</th>\n",
       "      <th>Concentration</th>\n",
       "    </tr>\n",
       "  </thead>\n",
       "  <tbody>\n",
       "    <tr>\n",
       "      <th>16</th>\n",
       "      <td>LIF-241</td>\n",
       "      <td>11468.8</td>\n",
       "    </tr>\n",
       "    <tr>\n",
       "      <th>17</th>\n",
       "      <td>LIF-241</td>\n",
       "      <td>11468.8</td>\n",
       "    </tr>\n",
       "    <tr>\n",
       "      <th>18</th>\n",
       "      <td>LIF-242</td>\n",
       "      <td>10837.6</td>\n",
       "    </tr>\n",
       "    <tr>\n",
       "      <th>19</th>\n",
       "      <td>LIF-242</td>\n",
       "      <td>10837.6</td>\n",
       "    </tr>\n",
       "  </tbody>\n",
       "</table>\n",
       "</div>"
      ],
      "text/plain": [
       "         ID Concentration\n",
       "16  LIF-241       11468.8\n",
       "17  LIF-241       11468.8\n",
       "18  LIF-242       10837.6\n",
       "19  LIF-242       10837.6"
      ]
     },
     "execution_count": 22,
     "metadata": {},
     "output_type": "execute_result"
    }
   ],
   "source": [
    "Concentration = []\n",
    "\n",
    "for key, row in nit_final2.iterrows():\n",
    "    if float(row['Var']) > 0.1:\n",
    "        Concentration.append('Error')\n",
    "    else:\n",
    "        Concentration.append(((float(row['Mean']) -x)/y).round(3))\n",
    "        \n",
    "nit_final2[\"Concentration\"] = Concentration\n",
    "Nitrate_final = nit_final2.drop(nit_final2.columns[[1, 2, 3]], axis=1)\n",
    "Nitrate_final[16:20]"
   ]
  },
  {
   "cell_type": "markdown",
   "metadata": {},
   "source": [
    "### Export these values (after running separately for ureides and nitrates) to a single file and match based on sample id information. \n",
    "\n",
    "### There are four columns on the final .csv file - sample id, ureide concentration, nitrate concentration, and the RAU value.\n"
   ]
  },
  {
   "cell_type": "code",
   "execution_count": 24,
   "metadata": {},
   "outputs": [
    {
     "data": {
      "text/html": [
       "<div>\n",
       "<style scoped>\n",
       "    .dataframe tbody tr th:only-of-type {\n",
       "        vertical-align: middle;\n",
       "    }\n",
       "\n",
       "    .dataframe tbody tr th {\n",
       "        vertical-align: top;\n",
       "    }\n",
       "\n",
       "    .dataframe thead th {\n",
       "        text-align: right;\n",
       "    }\n",
       "</style>\n",
       "<table border=\"1\" class=\"dataframe\">\n",
       "  <thead>\n",
       "    <tr style=\"text-align: right;\">\n",
       "      <th></th>\n",
       "      <th>ID</th>\n",
       "      <th>Conc_Ureides</th>\n",
       "      <th>Conc_Nitrates</th>\n",
       "      <th>RAU</th>\n",
       "    </tr>\n",
       "  </thead>\n",
       "  <tbody>\n",
       "    <tr>\n",
       "      <th>40</th>\n",
       "      <td>LIF-241</td>\n",
       "      <td>933.195</td>\n",
       "      <td>11468.8</td>\n",
       "      <td>0.245552</td>\n",
       "    </tr>\n",
       "    <tr>\n",
       "      <th>44</th>\n",
       "      <td>LIF-242</td>\n",
       "      <td>834.201</td>\n",
       "      <td>10837.6</td>\n",
       "      <td>0.23541</td>\n",
       "    </tr>\n",
       "  </tbody>\n",
       "</table>\n",
       "</div>"
      ],
      "text/plain": [
       "         ID Conc_Ureides Conc_Nitrates       RAU\n",
       "40  LIF-241      933.195       11468.8  0.245552\n",
       "44  LIF-242      834.201       10837.6   0.23541"
      ]
     },
     "execution_count": 24,
     "metadata": {},
     "output_type": "execute_result"
    }
   ],
   "source": [
    "Complete_UN = Ureide_final.merge(Nitrate_final, on='ID')\n",
    "Complete_UN.rename(columns = {'Concentration_x':'Conc_Ureides', 'Concentration_y':'Conc_Nitrates'}, inplace=True)\n",
    "Complete_UN\n",
    "\n",
    "RAU = []\n",
    "\n",
    "for key, row in Complete_UN.iterrows():\n",
    "    if str(row['Conc_Ureides']) == \"Error\":\n",
    "        RAU.append(\"Error\")\n",
    "    elif str(row['Conc_Nitrates']) == \"Error\":\n",
    "        RAU.append(\"Error\")\n",
    "    else:\n",
    "        RAU.append((float(row['Conc_Ureides'])*4)/(float(row['Conc_Ureides'])*4 + float(row[\"Conc_Nitrates\"])))\n",
    "\n",
    "Complete_UN[\"RAU\"] = RAU\n",
    "Complete_UN\n",
    "\n",
    "FINAL_RAU = Complete_UN.drop_duplicates(subset=['ID'])\n",
    "FINAL_RAU[8:10]"
   ]
  },
  {
   "cell_type": "markdown",
   "metadata": {},
   "source": [
    "## Outcomes to be Addressed:"
   ]
  },
  {
   "cell_type": "markdown",
   "metadata": {},
   "source": [
    "### Within the file, identify what is a standard and what is a sample.\n"
   ]
  },
  {
   "cell_type": "markdown",
   "metadata": {},
   "source": [
    "### Ask/prompt the user to identify parameters of dry tissue/solvent amounts used.\n"
   ]
  },
  {
   "cell_type": "markdown",
   "metadata": {},
   "source": [
    "### Respond accordingly based on the parameters given in the previous answer (i.e. run with expected dilution factor or adjust for differences).\n"
   ]
  }
 ],
 "metadata": {
  "kernelspec": {
   "display_name": "Python 3",
   "language": "python",
   "name": "python3"
  },
  "language_info": {
   "codemirror_mode": {
    "name": "ipython",
    "version": 3
   },
   "file_extension": ".py",
   "mimetype": "text/x-python",
   "name": "python",
   "nbconvert_exporter": "python",
   "pygments_lexer": "ipython3",
   "version": "3.7.1"
  }
 },
 "nbformat": 4,
 "nbformat_minor": 2
}
