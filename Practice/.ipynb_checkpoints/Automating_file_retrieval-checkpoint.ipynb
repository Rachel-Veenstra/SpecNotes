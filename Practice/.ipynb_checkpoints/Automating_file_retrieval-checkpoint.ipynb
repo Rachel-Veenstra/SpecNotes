{
 "cells": [
  {
   "cell_type": "code",
   "execution_count": 4,
   "metadata": {},
   "outputs": [
    {
     "name": "stdout",
     "output_type": "stream",
     "text": [
      "C:\\Users\\rveenstra\\Dropbox\\CropProdLabKSU\\Lab Analysis\\VISIONlite Results\\Nitrates\n"
     ]
    }
   ],
   "source": [
    "import glob ## importing module\n",
    "\n",
    "root = '/Users/rveenstra/Dropbox/CropProdLabKSU/Lab Analysis/VISIONlite Results/' ## defining location\n",
    "## THIS WILL BE SPECIFIC TO EACH COMPUTER THIS CODE IS RUN ON...\n",
    "## prompt with \"enter your user name\"??\n",
    "\n",
    "dataset_dir = root + '/Nitrates' ## defining folder\n",
    "\n",
    "glob.os.chdir(dataset_dir) # Tells the computer where to go\n",
    "\n",
    "print(glob.os.getcwd()) # print current working directory"
   ]
  },
  {
   "cell_type": "code",
   "execution_count": 6,
   "metadata": {},
   "outputs": [
    {
     "name": "stdout",
     "output_type": "stream",
     "text": [
      "LIF Ashland Nit 12-13-18.csv\n"
     ]
    }
   ],
   "source": [
    "print('LIF Ashland Nit 12-13-18.csv') ## tab autocompletion means we are in the correct folder :)"
   ]
  },
  {
   "cell_type": "code",
   "execution_count": null,
   "metadata": {},
   "outputs": [
    {
     "name": "stdout",
     "output_type": "stream",
     "text": [
      "Welcome! Please provide the name of the file you are analyzing:\n"
     ]
    }
   ],
   "source": [
    "import pandas as pd # importing module\n",
    "\n",
    "print(\"Welcome! Please provide the name of the file you are analyzing:\") ## user prompt\n",
    "data_name = input() \n",
    "\n",
    "data = pd.read_csv(str(data_name) + '.csv') ## opening file in directory based on name provided\n",
    "\n",
    "data.head(5) ## to see pandas dataframe (top 5 rows)\n",
    "\n",
    "print(\"Is this data for Nitrates or Ureides?\")\n",
    "data_type = input()\n",
    "\n",
    "data_type_corrected = data_type.lower\n",
    "\n",
    "if data_type_corrected == \"ureides\":\n",
    "    print(\"Well, I can't help you there... :(\")"
   ]
  },
  {
   "cell_type": "code",
   "execution_count": null,
   "metadata": {},
   "outputs": [],
   "source": []
  }
 ],
 "metadata": {
  "kernelspec": {
   "display_name": "Python 3",
   "language": "python",
   "name": "python3"
  },
  "language_info": {
   "codemirror_mode": {
    "name": "ipython",
    "version": 3
   },
   "file_extension": ".py",
   "mimetype": "text/x-python",
   "name": "python",
   "nbconvert_exporter": "python",
   "pygments_lexer": "ipython3",
   "version": "3.7.1"
  }
 },
 "nbformat": 4,
 "nbformat_minor": 2
}
