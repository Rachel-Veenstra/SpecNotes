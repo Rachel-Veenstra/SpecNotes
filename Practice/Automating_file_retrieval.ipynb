{
 "cells": [
  {
   "cell_type": "code",
   "execution_count": 4,
   "metadata": {},
   "outputs": [
    {
     "name": "stdout",
     "output_type": "stream",
     "text": [
      "C:\\Users\\rveenstra\\Dropbox\\CropProdLabKSU\\Lab Analysis\\VISIONlite Results\\Nitrates\n"
     ]
    }
   ],
   "source": [
    "import glob ## importing module\n",
    "\n",
    "root = '/Users/rveenstra/Dropbox/CropProdLabKSU/Lab Analysis/VISIONlite Results/' ## defining location\n",
    "## THIS WILL BE SPECIFIC TO EACH COMPUTER THIS CODE IS RUN ON...\n",
    "## prompt with \"enter your user name\"??\n",
    "\n",
    "dataset_dir = root + '/Nitrates' ## defining folder\n",
    "\n",
    "glob.os.chdir(dataset_dir) # Tells the computer where to go\n",
    "\n",
    "print(glob.os.getcwd()) # print current working directory"
   ]
  },
  {
   "cell_type": "code",
   "execution_count": 6,
   "metadata": {},
   "outputs": [
    {
     "name": "stdout",
     "output_type": "stream",
     "text": [
      "LIF Ashland Nit 12-13-18.csv\n"
     ]
    }
   ],
   "source": [
    "print('LIF Ashland Nit 12-13-18.csv') ## tab autocompletion means we are in the correct folder :)"
   ]
  },
  {
   "cell_type": "code",
   "execution_count": 13,
   "metadata": {},
   "outputs": [
    {
     "name": "stdout",
     "output_type": "stream",
     "text": [
      "Welcome! Please provide the name of the file you are analyzing:\n"
     ]
    },
    {
     "name": "stdin",
     "output_type": "stream",
     "text": [
      " LIF Ashland Nit 12-13-18\n"
     ]
    },
    {
     "data": {
      "text/html": [
       "<div>\n",
       "<style scoped>\n",
       "    .dataframe tbody tr th:only-of-type {\n",
       "        vertical-align: middle;\n",
       "    }\n",
       "\n",
       "    .dataframe tbody tr th {\n",
       "        vertical-align: top;\n",
       "    }\n",
       "\n",
       "    .dataframe thead th {\n",
       "        text-align: right;\n",
       "    }\n",
       "</style>\n",
       "<table border=\"1\" class=\"dataframe\">\n",
       "  <thead>\n",
       "    <tr style=\"text-align: right;\">\n",
       "      <th></th>\n",
       "      <th>Sample Name</th>\n",
       "      <th>410 nm   [A]</th>\n",
       "    </tr>\n",
       "  </thead>\n",
       "  <tbody>\n",
       "    <tr>\n",
       "      <th>0</th>\n",
       "      <td>1_1</td>\n",
       "      <td>0.004</td>\n",
       "    </tr>\n",
       "    <tr>\n",
       "      <th>1</th>\n",
       "      <td>1_2</td>\n",
       "      <td>0.003</td>\n",
       "    </tr>\n",
       "    <tr>\n",
       "      <th>2</th>\n",
       "      <td>2_1</td>\n",
       "      <td>0.001</td>\n",
       "    </tr>\n",
       "    <tr>\n",
       "      <th>3</th>\n",
       "      <td>2_2</td>\n",
       "      <td>0.003</td>\n",
       "    </tr>\n",
       "    <tr>\n",
       "      <th>4</th>\n",
       "      <td>0</td>\n",
       "      <td>0.006</td>\n",
       "    </tr>\n",
       "  </tbody>\n",
       "</table>\n",
       "</div>"
      ],
      "text/plain": [
       "  Sample Name  410 nm   [A]\n",
       "0         1_1         0.004\n",
       "1         1_2         0.003\n",
       "2         2_1         0.001\n",
       "3         2_2         0.003\n",
       "4           0         0.006"
      ]
     },
     "execution_count": 13,
     "metadata": {},
     "output_type": "execute_result"
    }
   ],
   "source": [
    "import pandas as pd # importing module\n",
    "\n",
    "print(\"Welcome! Please provide the name of the file you are analyzing:\") ## user prompt\n",
    "data_name = input() \n",
    "\n",
    "data = pd.read_csv(str(data_name) + '.csv') ## opening file in directory based on name provided\n",
    "\n",
    "data.head(5) ## to see pandas dataframe (top 5 rows)"
   ]
  },
  {
   "cell_type": "code",
   "execution_count": 14,
   "metadata": {},
   "outputs": [
    {
     "name": "stdout",
     "output_type": "stream",
     "text": [
      "Is this data for Nitrates?\n"
     ]
    },
    {
     "name": "stdin",
     "output_type": "stream",
     "text": [
      " yes\n"
     ]
    },
    {
     "name": "stdout",
     "output_type": "stream",
     "text": [
      "Perfect! The datasheet provided will be run for nitrate analysis. Please provide the corresponding ureide file.\n"
     ]
    }
   ],
   "source": [
    "print(\"Is this data for Nitrates?\")\n",
    "data_type = input()\n",
    "\n",
    "data_type_corrected = data_type.lower()\n",
    "\n",
    "if data_type_corrected == \"no\":\n",
    "    print(\"Okay, the datasheet provided will be assumed as ureides. Please provide the corresponding nitrate file.\")\n",
    "else:\n",
    "    print('Perfect! The datasheet provided will be run for nitrate analysis. Please provide the corresponding ureide file.')"
   ]
  },
  {
   "cell_type": "code",
   "execution_count": 18,
   "metadata": {},
   "outputs": [
    {
     "name": "stdout",
     "output_type": "stream",
     "text": [
      "Hello! Please tell me your user name so I can access the necessary files on this computer.\n"
     ]
    },
    {
     "name": "stdin",
     "output_type": "stream",
     "text": [
      " rveenstra\n"
     ]
    },
    {
     "name": "stdout",
     "output_type": "stream",
     "text": [
      "Please provide the name of a nitrate datasheet:\n"
     ]
    },
    {
     "name": "stdin",
     "output_type": "stream",
     "text": [
      " LIF Ashland Nit 12-13-18\n"
     ]
    },
    {
     "name": "stdout",
     "output_type": "stream",
     "text": [
      "  Sample Name  410 nm   [A]\n",
      "0         1_1         0.004\n",
      "1         1_2         0.003\n",
      "2         2_1         0.001\n",
      "3         2_2         0.003\n",
      "4        0.00         0.006\n",
      "Please provide the name of the corresponding ureide datasheet:\n"
     ]
    },
    {
     "name": "stdin",
     "output_type": "stream",
     "text": [
      " LIF Ashland 11-15-18\n"
     ]
    },
    {
     "name": "stdout",
     "output_type": "stream",
     "text": [
      "  Sample Name  535 nm   [A]\n",
      "0         1_1         0.008\n",
      "1         1_2         0.005\n",
      "2         2_1         0.004\n",
      "3         2_2         0.005\n",
      "4        0.00         0.003\n"
     ]
    }
   ],
   "source": [
    "## FINAL VERSION:\n",
    "\n",
    "import glob\n",
    "import pandas as pd\n",
    "\n",
    "print(\"Hello! Please tell me your user name so I can access the necessary files on this computer.\")\n",
    "user_name = input()\n",
    "\n",
    "data_file_n = '/Users/' + user_name + '/Dropbox/CropProdLabKSU/Lab Analysis/VISIONlite Results/Nitrates'\n",
    "\n",
    "glob.os.chdir(data_file_n)\n",
    "\n",
    "print(\"Please provide the name of a nitrate datasheet:\")\n",
    "n_data = input()\n",
    "\n",
    "nit_df = pd.read_csv(str(n_data) + '.csv')\n",
    "print(nit_df.head(5))\n",
    "\n",
    "data_file_u = '/Users/' + user_name + '/Dropbox/CropProdLabKSU/Lab Analysis/VISIONlite Results/Ureides'\n",
    "\n",
    "glob.os.chdir(data_file_u)\n",
    "\n",
    "print('Please provide the name of the corresponding ureide datasheet:')\n",
    "u_data = input()\n",
    "\n",
    "ur_df = pd.read_csv(str(u_data) + '.csv')\n",
    "print(ur_df.head(5))"
   ]
  }
 ],
 "metadata": {
  "kernelspec": {
   "display_name": "Python 3",
   "language": "python",
   "name": "python3"
  },
  "language_info": {
   "codemirror_mode": {
    "name": "ipython",
    "version": 3
   },
   "file_extension": ".py",
   "mimetype": "text/x-python",
   "name": "python",
   "nbconvert_exporter": "python",
   "pygments_lexer": "ipython3",
   "version": "3.7.1"
  }
 },
 "nbformat": 4,
 "nbformat_minor": 2
}
