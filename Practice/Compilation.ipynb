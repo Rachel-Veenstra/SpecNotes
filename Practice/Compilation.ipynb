{
 "cells": [
  {
   "cell_type": "code",
   "execution_count": 2,
   "metadata": {},
   "outputs": [
    {
     "name": "stdout",
     "output_type": "stream",
     "text": [
      "Hello! Please provide your user name so the necessary files on this computer can be accessed.\n"
     ]
    },
    {
     "name": "stdin",
     "output_type": "stream",
     "text": [
      " rveenstra\n"
     ]
    },
    {
     "name": "stdout",
     "output_type": "stream",
     "text": [
      "Please provide the name of a nitrate datasheet:\n"
     ]
    },
    {
     "name": "stdin",
     "output_type": "stream",
     "text": [
      " LIF Ashland Nit 12-13-18\n"
     ]
    },
    {
     "name": "stdout",
     "output_type": "stream",
     "text": [
      "  Sample Name  410 nm   [A]\n",
      "0         1_1         0.004\n",
      "1         1_2         0.003\n",
      "2         2_1         0.001\n",
      "3         2_2         0.003\n",
      "4        0.00         0.006\n",
      "Please provide the name of the corresponding ureide datasheet:\n"
     ]
    },
    {
     "name": "stdin",
     "output_type": "stream",
     "text": [
      " LIF Ashland 11-15-18\n"
     ]
    },
    {
     "name": "stdout",
     "output_type": "stream",
     "text": [
      "  Sample Name  535 nm   [A]\n",
      "0         1_1         0.008\n",
      "1         1_2         0.005\n",
      "2         2_1         0.004\n",
      "3         2_2         0.005\n",
      "4        0.00         0.003\n",
      "Nitrate Calibration Curve\n"
     ]
    },
    {
     "data": {
      "text/plain": [
       "<Figure size 640x480 with 1 Axes>"
      ]
     },
     "metadata": {},
     "output_type": "display_data"
    },
    {
     "name": "stdout",
     "output_type": "stream",
     "text": [
      "absorbance = 0.000103(concentration) + 0.005967\n",
      "concentration = (absorbance - 0.005967) / 0.000103\n",
      "Ureide Calibration Curve\n"
     ]
    },
    {
     "data": {
      "text/plain": [
       "<Figure size 640x480 with 1 Axes>"
      ]
     },
     "metadata": {},
     "output_type": "display_data"
    },
    {
     "name": "stdout",
     "output_type": "stream",
     "text": [
      "absorbance = 0.000596(concentration) + 0.012321\n",
      "concentration = (absorbance - 0.012321) / 0.000596\n"
     ]
    }
   ],
   "source": [
    "import glob\n",
    "import pandas as pd\n",
    "import numpy\n",
    "import matplotlib.pylab as plt\n",
    "import scipy\n",
    "import pylab\n",
    "\n",
    "print(\"Hello! Please provide your user name so the necessary files on this computer can be accessed.\")\n",
    "user_name = input()\n",
    "\n",
    "data_file_n = '/Users/' + user_name + '/Dropbox/CropProdLabKSU/Lab Analysis/VISIONlite Results/Nitrates'\n",
    "\n",
    "glob.os.chdir(data_file_n)\n",
    "\n",
    "print(\"Please provide the name of a nitrate datasheet:\")\n",
    "n_data = input()\n",
    "\n",
    "nit_df = pd.read_csv(str(n_data) + '.csv')\n",
    "print(nit_df.head(5))\n",
    "\n",
    "data_file_u = '/Users/' + user_name + '/Dropbox/CropProdLabKSU/Lab Analysis/VISIONlite Results/Ureides'\n",
    "\n",
    "glob.os.chdir(data_file_u)\n",
    "\n",
    "print('Please provide the name of the corresponding ureide datasheet:')\n",
    "u_data = input()\n",
    "\n",
    "ur_df = pd.read_csv(str(u_data) + '.csv')\n",
    "print(ur_df.head(5))\n",
    "\n",
    "#### NITRATE FILE\n",
    "\n",
    "nit_df.rename(columns = {'Sample Name':'ID', '410 nm   [A]':'B'}, inplace=True)\n",
    "\n",
    "nit_g = nit_df.groupby('ID')\n",
    "\n",
    "nit_final=nit_df.merge(nit_g.mean(),on='ID')\n",
    "nit_final2=nit_final.merge(abs(nit_g.max()-nit_g.min())/nit_g.max(), on='ID')\n",
    "nit_final2.rename(columns = {'B':'Var', 'B_x':'Abs', 'B_y':'Mean'}, inplace=True)\n",
    "\n",
    "c = (0,0,0,1500,1500,1500,3000,3000,3000,4500,4500,4500)\n",
    "a = nit_final2.iloc[4:16, 1]\n",
    "m = nit_final2.iloc[4:16, 2]\n",
    "\n",
    "pylab.plot(c, a, \"ro\")\n",
    "pylab.plot(c, m,'bx')\n",
    "pylab.ylabel(\"Absorbance Value\")\n",
    "pylab.xlabel(\"Concentration ppm\")\n",
    "\n",
    "z = numpy.polyfit(c, m, 1, rcond=None, full=False, w=None, cov=False)\n",
    "p = numpy.poly1d(z)\n",
    "pylab.plot(c, p(c),\"g--\")\n",
    "print(\"Nitrate Calibration Curve\")\n",
    "pylab.show()\n",
    "print(\"absorbance = %.6f(concentration) + %.6f\"%(z[0],z[1]))\n",
    "print(\"concentration = (absorbance - %.6f) / %.6f\"%(z[1],z[0]))\n",
    "\n",
    "x=z[1]\n",
    "y=z[0]\n",
    "\n",
    "Concentration = []\n",
    "\n",
    "for key, row in nit_final2.iterrows():\n",
    "    if float(row['Var']) > 0.1:\n",
    "        Concentration.append('Error')\n",
    "    else:\n",
    "        Concentration.append(((float(row['Mean']) -x)/y).round(3))\n",
    "        \n",
    "nit_final2[\"Concentration\"] = Concentration\n",
    "nit_final2\n",
    "Nitrate_final = nit_final2.drop(nit_final2.columns[[1, 2, 3]], axis=1)\n",
    "\n",
    "#### UREIDE FILE\n",
    "\n",
    "ur_df.rename(columns = {'Sample Name':'ID', '535 nm   [A]':'B'}, inplace=True)\n",
    "\n",
    "ur_g = ur_df.groupby('ID')\n",
    "\n",
    "ur_final=ur_df.merge(ur_g.mean(),on='ID')\n",
    "ur_final2=ur_final.merge(abs(ur_g.max()-ur_g.min())/ur_g.max(), on='ID')\n",
    "ur_final2.rename(columns = {'B':'Var', 'B_x':'Abs', 'B_y':'Mean'}, inplace=True)\n",
    "\n",
    "c_u = (0,0,0,549.6,549.6,549.6,1099.2,1099.2,1099.2,4400,4400,4400)\n",
    "a_u = ur_final2.iloc[4:16, 1]\n",
    "m_u = ur_final2.iloc[4:16, 2]\n",
    "\n",
    "pylab.plot(c_u, a_u, \"ro\")\n",
    "pylab.plot(c_u, m_u,'bx')\n",
    "pylab.ylabel(\"Absorbance Value\")\n",
    "pylab.xlabel(\"Concentration ppm\")\n",
    "\n",
    "z_u = numpy.polyfit(c_u, m_u, 1, rcond=None, full=False, w=None, cov=False)\n",
    "p_u = numpy.poly1d(z_u)\n",
    "pylab.plot(c_u, p_u(c_u),\"g--\")\n",
    "print(\"Ureide Calibration Curve\")\n",
    "pylab.show()\n",
    "print(\"absorbance = %.6f(concentration) + %.6f\"%(z_u[0],z_u[1]))\n",
    "print(\"concentration = (absorbance - %.6f) / %.6f\"%(z_u[1],z_u[0]))\n",
    "\n",
    "x_u=z_u[1]\n",
    "y_u=z_u[0]\n",
    "\n",
    "Concentration_u = []\n",
    "\n",
    "for key, row in ur_final2.iterrows():\n",
    "    if float(row['Var']) > 0.1:\n",
    "        Concentration_u.append('Error')\n",
    "    else:\n",
    "        Concentration_u.append(((float(row['Mean']) -x_u)/y_u).round(3))\n",
    "        \n",
    "ur_final2[\"Concentration\"] = Concentration_u\n",
    "ur_final2\n",
    "Ureide_final = ur_final2.drop(ur_final2.columns[[1, 2, 3]], axis=1)"
   ]
  },
  {
   "cell_type": "code",
   "execution_count": 19,
   "metadata": {},
   "outputs": [
    {
     "ename": "ValueError",
     "evalue": "could not convert string to float: 'Error'",
     "output_type": "error",
     "traceback": [
      "\u001b[1;31m---------------------------------------------------------------------------\u001b[0m",
      "\u001b[1;31mValueError\u001b[0m                                Traceback (most recent call last)",
      "\u001b[1;32m<ipython-input-19-9fd31e70bebf>\u001b[0m in \u001b[0;36m<module>\u001b[1;34m\u001b[0m\n\u001b[0;32m      9\u001b[0m         \u001b[0mRAU\u001b[0m\u001b[1;33m.\u001b[0m\u001b[0mappend\u001b[0m\u001b[1;33m(\u001b[0m\u001b[1;34m\"Error\"\u001b[0m\u001b[1;33m)\u001b[0m\u001b[1;33m\u001b[0m\u001b[1;33m\u001b[0m\u001b[0m\n\u001b[0;32m     10\u001b[0m     \u001b[1;32melse\u001b[0m\u001b[1;33m:\u001b[0m\u001b[1;33m\u001b[0m\u001b[1;33m\u001b[0m\u001b[0m\n\u001b[1;32m---> 11\u001b[1;33m         \u001b[0mRAU\u001b[0m\u001b[1;33m.\u001b[0m\u001b[0mappend\u001b[0m\u001b[1;33m(\u001b[0m\u001b[1;33m(\u001b[0m\u001b[0mfloat\u001b[0m\u001b[1;33m(\u001b[0m\u001b[0mrow\u001b[0m\u001b[1;33m[\u001b[0m\u001b[1;34m'Conc_Ureides'\u001b[0m\u001b[1;33m]\u001b[0m\u001b[1;33m)\u001b[0m\u001b[1;33m*\u001b[0m\u001b[1;36m4\u001b[0m\u001b[1;33m)\u001b[0m\u001b[1;33m/\u001b[0m\u001b[1;33m(\u001b[0m\u001b[0mfloat\u001b[0m\u001b[1;33m(\u001b[0m\u001b[0mrow\u001b[0m\u001b[1;33m[\u001b[0m\u001b[1;34m'Conc_Ureides'\u001b[0m\u001b[1;33m]\u001b[0m\u001b[1;33m)\u001b[0m\u001b[1;33m*\u001b[0m\u001b[1;36m4\u001b[0m \u001b[1;33m+\u001b[0m \u001b[0mfloat\u001b[0m\u001b[1;33m(\u001b[0m\u001b[0mrow\u001b[0m\u001b[1;33m[\u001b[0m\u001b[1;34m\"Conc_Nitrates\"\u001b[0m\u001b[1;33m]\u001b[0m\u001b[1;33m)\u001b[0m\u001b[1;33m)\u001b[0m\u001b[1;33m)\u001b[0m\u001b[1;33m\u001b[0m\u001b[1;33m\u001b[0m\u001b[0m\n\u001b[0m\u001b[0;32m     12\u001b[0m \u001b[1;31m#    print(Complete_UN['Conc_Ureides'])4/((Complete_UN[\"Conc_Ureides\"])4 + Complete_UN[\"Conc_Nitrates\"])100)\u001b[0m\u001b[1;33m\u001b[0m\u001b[1;33m\u001b[0m\u001b[1;33m\u001b[0m\u001b[0m\n",
      "\u001b[1;31mValueError\u001b[0m: could not convert string to float: 'Error'"
     ]
    }
   ],
   "source": [
    "Complete_UN = Ureide_final.merge(Nitrate_final, on='ID')\n",
    "Complete_UN.rename(columns = {'Concentration_x':'Conc_Ureides', 'Concentration_y':'Conc_Nitrates'}, inplace=True)\n",
    "Complete_UN\n",
    "\n",
    "RAU = []\n",
    "\n",
    "for key, row in Complete_UN.iterrows():\n",
    "    if (row['Conc_Ureides']) == \"Error\":\n",
    "        RAU.append(\"Error\")\n",
    "    else:\n",
    "        RAU.append((float(row['Conc_Ureides'])*4)/(float(row['Conc_Ureides'])*4 + float(row[\"Conc_Nitrates\"])))\n",
    "#    print(Complete_UN['Conc_Ureides'])4/((Complete_UN[\"Conc_Ureides\"])4 + Complete_UN[\"Conc_Nitrates\"])100)"
   ]
  },
  {
   "cell_type": "code",
   "execution_count": null,
   "metadata": {},
   "outputs": [],
   "source": []
  }
 ],
 "metadata": {
  "kernelspec": {
   "display_name": "Python 3",
   "language": "python",
   "name": "python3"
  },
  "language_info": {
   "codemirror_mode": {
    "name": "ipython",
    "version": 3
   },
   "file_extension": ".py",
   "mimetype": "text/x-python",
   "name": "python",
   "nbconvert_exporter": "python",
   "pygments_lexer": "ipython3",
   "version": "3.7.1"
  }
 },
 "nbformat": 4,
 "nbformat_minor": 2
}
