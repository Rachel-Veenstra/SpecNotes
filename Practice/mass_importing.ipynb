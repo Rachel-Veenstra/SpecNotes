{
 "cells": [
  {
   "cell_type": "code",
   "execution_count": 1,
   "metadata": {},
   "outputs": [
    {
     "name": "stdout",
     "output_type": "stream",
     "text": [
      "Hello! Please provide your user name so the necessary files on this computer can be accessed.\n"
     ]
    },
    {
     "name": "stdin",
     "output_type": "stream",
     "text": [
      " rveenstra\n"
     ]
    },
    {
     "name": "stdout",
     "output_type": "stream",
     "text": [
      "Nitrate Calibration Curve\n"
     ]
    },
    {
     "data": {
      "text/plain": [
       "<Figure size 640x480 with 1 Axes>"
      ]
     },
     "metadata": {},
     "output_type": "display_data"
    },
    {
     "name": "stdout",
     "output_type": "stream",
     "text": [
      "absorbance = 0.000103(concentration) + 0.005967\n",
      "concentration = (absorbance - 0.005967) / 0.000103\n",
      "Nitrate Calibration Curve\n"
     ]
    },
    {
     "data": {
      "text/plain": [
       "<Figure size 640x480 with 1 Axes>"
      ]
     },
     "metadata": {},
     "output_type": "display_data"
    },
    {
     "name": "stdout",
     "output_type": "stream",
     "text": [
      "absorbance = 0.000099(concentration) + 0.001933\n",
      "concentration = (absorbance - 0.001933) / 0.000099\n",
      "Nitrate Calibration Curve\n"
     ]
    },
    {
     "data": {
      "text/plain": [
       "<Figure size 640x480 with 1 Axes>"
      ]
     },
     "metadata": {},
     "output_type": "display_data"
    },
    {
     "name": "stdout",
     "output_type": "stream",
     "text": [
      "absorbance = 0.000097(concentration) + 0.000800\n",
      "concentration = (absorbance - 0.000800) / 0.000097\n",
      "Nitrate Calibration Curve\n"
     ]
    },
    {
     "data": {
      "text/plain": [
       "<Figure size 640x480 with 1 Axes>"
      ]
     },
     "metadata": {},
     "output_type": "display_data"
    },
    {
     "name": "stdout",
     "output_type": "stream",
     "text": [
      "absorbance = 0.000103(concentration) + 0.006933\n",
      "concentration = (absorbance - 0.006933) / 0.000103\n",
      "Nitrate Calibration Curve\n"
     ]
    },
    {
     "data": {
      "text/plain": [
       "<Figure size 640x480 with 1 Axes>"
      ]
     },
     "metadata": {},
     "output_type": "display_data"
    },
    {
     "name": "stdout",
     "output_type": "stream",
     "text": [
      "absorbance = 0.000108(concentration) + 0.003767\n",
      "concentration = (absorbance - 0.003767) / 0.000108\n",
      "Nitrate Calibration Curve\n"
     ]
    },
    {
     "data": {
      "text/plain": [
       "<Figure size 640x480 with 1 Axes>"
      ]
     },
     "metadata": {},
     "output_type": "display_data"
    },
    {
     "name": "stdout",
     "output_type": "stream",
     "text": [
      "absorbance = 0.000108(concentration) + 0.002833\n",
      "concentration = (absorbance - 0.002833) / 0.000108\n",
      "Nitrate Calibration Curve\n"
     ]
    },
    {
     "data": {
      "text/plain": [
       "<Figure size 640x480 with 1 Axes>"
      ]
     },
     "metadata": {},
     "output_type": "display_data"
    },
    {
     "name": "stdout",
     "output_type": "stream",
     "text": [
      "absorbance = 0.000114(concentration) + -0.007500\n",
      "concentration = (absorbance - -0.007500) / 0.000114\n",
      "Nitrate Calibration Curve\n"
     ]
    },
    {
     "data": {
      "text/plain": [
       "<Figure size 640x480 with 1 Axes>"
      ]
     },
     "metadata": {},
     "output_type": "display_data"
    },
    {
     "name": "stdout",
     "output_type": "stream",
     "text": [
      "absorbance = 0.000102(concentration) + 0.001033\n",
      "concentration = (absorbance - 0.001033) / 0.000102\n",
      "Nitrate Calibration Curve\n"
     ]
    },
    {
     "data": {
      "text/plain": [
       "<Figure size 640x480 with 1 Axes>"
      ]
     },
     "metadata": {},
     "output_type": "display_data"
    },
    {
     "name": "stdout",
     "output_type": "stream",
     "text": [
      "absorbance = -0.000013(concentration) + 0.092933\n",
      "concentration = (absorbance - 0.092933) / -0.000013\n",
      "Nitrate Calibration Curve\n"
     ]
    },
    {
     "data": {
      "text/plain": [
       "<Figure size 640x480 with 1 Axes>"
      ]
     },
     "metadata": {},
     "output_type": "display_data"
    },
    {
     "name": "stdout",
     "output_type": "stream",
     "text": [
      "absorbance = 0.000092(concentration) + 0.008167\n",
      "concentration = (absorbance - 0.008167) / 0.000092\n",
      "Nitrate Calibration Curve\n"
     ]
    },
    {
     "data": {
      "text/plain": [
       "<Figure size 640x480 with 1 Axes>"
      ]
     },
     "metadata": {},
     "output_type": "display_data"
    },
    {
     "name": "stdout",
     "output_type": "stream",
     "text": [
      "absorbance = 0.000098(concentration) + 0.003367\n",
      "concentration = (absorbance - 0.003367) / 0.000098\n",
      "Nitrate Calibration Curve\n"
     ]
    },
    {
     "data": {
      "text/plain": [
       "<Figure size 640x480 with 1 Axes>"
      ]
     },
     "metadata": {},
     "output_type": "display_data"
    },
    {
     "name": "stdout",
     "output_type": "stream",
     "text": [
      "absorbance = 0.000097(concentration) + 0.004033\n",
      "concentration = (absorbance - 0.004033) / 0.000097\n",
      "Nitrate Calibration Curve\n"
     ]
    },
    {
     "data": {
      "text/plain": [
       "<Figure size 640x480 with 1 Axes>"
      ]
     },
     "metadata": {},
     "output_type": "display_data"
    },
    {
     "name": "stdout",
     "output_type": "stream",
     "text": [
      "absorbance = 0.000101(concentration) + 0.013233\n",
      "concentration = (absorbance - 0.013233) / 0.000101\n",
      "Nitrate Calibration Curve\n"
     ]
    },
    {
     "data": {
      "text/plain": [
       "<Figure size 640x480 with 1 Axes>"
      ]
     },
     "metadata": {},
     "output_type": "display_data"
    },
    {
     "name": "stdout",
     "output_type": "stream",
     "text": [
      "absorbance = 0.000101(concentration) + 0.000267\n",
      "concentration = (absorbance - 0.000267) / 0.000101\n",
      "Nitrate Calibration Curve\n"
     ]
    },
    {
     "data": {
      "text/plain": [
       "<Figure size 640x480 with 1 Axes>"
      ]
     },
     "metadata": {},
     "output_type": "display_data"
    },
    {
     "name": "stdout",
     "output_type": "stream",
     "text": [
      "absorbance = 0.000112(concentration) + 0.000300\n",
      "concentration = (absorbance - 0.000300) / 0.000112\n",
      "Nitrate Calibration Curve\n"
     ]
    },
    {
     "data": {
      "text/plain": [
       "<Figure size 640x480 with 1 Axes>"
      ]
     },
     "metadata": {},
     "output_type": "display_data"
    },
    {
     "name": "stdout",
     "output_type": "stream",
     "text": [
      "absorbance = 0.000105(concentration) + 0.005567\n",
      "concentration = (absorbance - 0.005567) / 0.000105\n",
      "Nitrate Calibration Curve\n"
     ]
    },
    {
     "data": {
      "text/plain": [
       "<Figure size 640x480 with 1 Axes>"
      ]
     },
     "metadata": {},
     "output_type": "display_data"
    },
    {
     "name": "stdout",
     "output_type": "stream",
     "text": [
      "absorbance = 0.000096(concentration) + 0.004300\n",
      "concentration = (absorbance - 0.004300) / 0.000096\n",
      "Nitrate Calibration Curve\n"
     ]
    },
    {
     "data": {
      "text/plain": [
       "<Figure size 640x480 with 1 Axes>"
      ]
     },
     "metadata": {},
     "output_type": "display_data"
    },
    {
     "name": "stdout",
     "output_type": "stream",
     "text": [
      "absorbance = 0.000107(concentration) + -0.000133\n",
      "concentration = (absorbance - -0.000133) / 0.000107\n",
      "Nitrate Calibration Curve\n"
     ]
    },
    {
     "data": {
      "text/plain": [
       "<Figure size 640x480 with 1 Axes>"
      ]
     },
     "metadata": {},
     "output_type": "display_data"
    },
    {
     "name": "stdout",
     "output_type": "stream",
     "text": [
      "absorbance = 0.000108(concentration) + 0.003167\n",
      "concentration = (absorbance - 0.003167) / 0.000108\n",
      "Nitrate Calibration Curve\n"
     ]
    },
    {
     "data": {
      "text/plain": [
       "<Figure size 640x480 with 1 Axes>"
      ]
     },
     "metadata": {},
     "output_type": "display_data"
    },
    {
     "name": "stdout",
     "output_type": "stream",
     "text": [
      "absorbance = 0.000083(concentration) + -0.032400\n",
      "concentration = (absorbance - -0.032400) / 0.000083\n"
     ]
    },
    {
     "ename": "ValueError",
     "evalue": "x and y must have same first dimension, but have shapes (12,) and (10,)",
     "output_type": "error",
     "traceback": [
      "\u001b[1;31m---------------------------------------------------------------------------\u001b[0m",
      "\u001b[1;31mValueError\u001b[0m                                Traceback (most recent call last)",
      "\u001b[1;32m<ipython-input-1-3ab2bed09fbb>\u001b[0m in \u001b[0;36m<module>\u001b[1;34m\u001b[0m\n\u001b[0;32m     29\u001b[0m     \u001b[0mm\u001b[0m \u001b[1;33m=\u001b[0m \u001b[0mnit_final2\u001b[0m\u001b[1;33m.\u001b[0m\u001b[0miloc\u001b[0m\u001b[1;33m[\u001b[0m\u001b[1;36m4\u001b[0m\u001b[1;33m:\u001b[0m\u001b[1;36m16\u001b[0m\u001b[1;33m,\u001b[0m \u001b[1;36m2\u001b[0m\u001b[1;33m]\u001b[0m\u001b[1;33m\u001b[0m\u001b[1;33m\u001b[0m\u001b[0m\n\u001b[0;32m     30\u001b[0m \u001b[1;33m\u001b[0m\u001b[0m\n\u001b[1;32m---> 31\u001b[1;33m     \u001b[0mpylab\u001b[0m\u001b[1;33m.\u001b[0m\u001b[0mplot\u001b[0m\u001b[1;33m(\u001b[0m\u001b[0mc\u001b[0m\u001b[1;33m,\u001b[0m \u001b[0ma\u001b[0m\u001b[1;33m,\u001b[0m \u001b[1;34m\"ro\"\u001b[0m\u001b[1;33m)\u001b[0m\u001b[1;33m\u001b[0m\u001b[1;33m\u001b[0m\u001b[0m\n\u001b[0m\u001b[0;32m     32\u001b[0m     \u001b[0mpylab\u001b[0m\u001b[1;33m.\u001b[0m\u001b[0mplot\u001b[0m\u001b[1;33m(\u001b[0m\u001b[0mc\u001b[0m\u001b[1;33m,\u001b[0m \u001b[0mm\u001b[0m\u001b[1;33m,\u001b[0m\u001b[1;34m'bx'\u001b[0m\u001b[1;33m)\u001b[0m\u001b[1;33m\u001b[0m\u001b[1;33m\u001b[0m\u001b[0m\n\u001b[0;32m     33\u001b[0m     \u001b[0mpylab\u001b[0m\u001b[1;33m.\u001b[0m\u001b[0mylabel\u001b[0m\u001b[1;33m(\u001b[0m\u001b[1;34m\"Absorbance Value\"\u001b[0m\u001b[1;33m)\u001b[0m\u001b[1;33m\u001b[0m\u001b[1;33m\u001b[0m\u001b[0m\n",
      "\u001b[1;32m~\\AppData\\Local\\Continuum\\anaconda3\\lib\\site-packages\\matplotlib\\pyplot.py\u001b[0m in \u001b[0;36mplot\u001b[1;34m(scalex, scaley, data, *args, **kwargs)\u001b[0m\n\u001b[0;32m   2811\u001b[0m     return gca().plot(\n\u001b[0;32m   2812\u001b[0m         *args, scalex=scalex, scaley=scaley, **({\"data\": data} if data\n\u001b[1;32m-> 2813\u001b[1;33m         is not None else {}), **kwargs)\n\u001b[0m\u001b[0;32m   2814\u001b[0m \u001b[1;33m\u001b[0m\u001b[0m\n\u001b[0;32m   2815\u001b[0m \u001b[1;33m\u001b[0m\u001b[0m\n",
      "\u001b[1;32m~\\AppData\\Local\\Continuum\\anaconda3\\lib\\site-packages\\matplotlib\\__init__.py\u001b[0m in \u001b[0;36minner\u001b[1;34m(ax, data, *args, **kwargs)\u001b[0m\n\u001b[0;32m   1808\u001b[0m                         \u001b[1;34m\"the Matplotlib list!)\"\u001b[0m \u001b[1;33m%\u001b[0m \u001b[1;33m(\u001b[0m\u001b[0mlabel_namer\u001b[0m\u001b[1;33m,\u001b[0m \u001b[0mfunc\u001b[0m\u001b[1;33m.\u001b[0m\u001b[0m__name__\u001b[0m\u001b[1;33m)\u001b[0m\u001b[1;33m,\u001b[0m\u001b[1;33m\u001b[0m\u001b[1;33m\u001b[0m\u001b[0m\n\u001b[0;32m   1809\u001b[0m                         RuntimeWarning, stacklevel=2)\n\u001b[1;32m-> 1810\u001b[1;33m             \u001b[1;32mreturn\u001b[0m \u001b[0mfunc\u001b[0m\u001b[1;33m(\u001b[0m\u001b[0max\u001b[0m\u001b[1;33m,\u001b[0m \u001b[1;33m*\u001b[0m\u001b[0margs\u001b[0m\u001b[1;33m,\u001b[0m \u001b[1;33m**\u001b[0m\u001b[0mkwargs\u001b[0m\u001b[1;33m)\u001b[0m\u001b[1;33m\u001b[0m\u001b[1;33m\u001b[0m\u001b[0m\n\u001b[0m\u001b[0;32m   1811\u001b[0m \u001b[1;33m\u001b[0m\u001b[0m\n\u001b[0;32m   1812\u001b[0m         inner.__doc__ = _add_data_doc(inner.__doc__,\n",
      "\u001b[1;32m~\\AppData\\Local\\Continuum\\anaconda3\\lib\\site-packages\\matplotlib\\axes\\_axes.py\u001b[0m in \u001b[0;36mplot\u001b[1;34m(self, scalex, scaley, *args, **kwargs)\u001b[0m\n\u001b[0;32m   1609\u001b[0m         \u001b[0mkwargs\u001b[0m \u001b[1;33m=\u001b[0m \u001b[0mcbook\u001b[0m\u001b[1;33m.\u001b[0m\u001b[0mnormalize_kwargs\u001b[0m\u001b[1;33m(\u001b[0m\u001b[0mkwargs\u001b[0m\u001b[1;33m,\u001b[0m \u001b[0mmlines\u001b[0m\u001b[1;33m.\u001b[0m\u001b[0mLine2D\u001b[0m\u001b[1;33m.\u001b[0m\u001b[0m_alias_map\u001b[0m\u001b[1;33m)\u001b[0m\u001b[1;33m\u001b[0m\u001b[1;33m\u001b[0m\u001b[0m\n\u001b[0;32m   1610\u001b[0m \u001b[1;33m\u001b[0m\u001b[0m\n\u001b[1;32m-> 1611\u001b[1;33m         \u001b[1;32mfor\u001b[0m \u001b[0mline\u001b[0m \u001b[1;32min\u001b[0m \u001b[0mself\u001b[0m\u001b[1;33m.\u001b[0m\u001b[0m_get_lines\u001b[0m\u001b[1;33m(\u001b[0m\u001b[1;33m*\u001b[0m\u001b[0margs\u001b[0m\u001b[1;33m,\u001b[0m \u001b[1;33m**\u001b[0m\u001b[0mkwargs\u001b[0m\u001b[1;33m)\u001b[0m\u001b[1;33m:\u001b[0m\u001b[1;33m\u001b[0m\u001b[1;33m\u001b[0m\u001b[0m\n\u001b[0m\u001b[0;32m   1612\u001b[0m             \u001b[0mself\u001b[0m\u001b[1;33m.\u001b[0m\u001b[0madd_line\u001b[0m\u001b[1;33m(\u001b[0m\u001b[0mline\u001b[0m\u001b[1;33m)\u001b[0m\u001b[1;33m\u001b[0m\u001b[1;33m\u001b[0m\u001b[0m\n\u001b[0;32m   1613\u001b[0m             \u001b[0mlines\u001b[0m\u001b[1;33m.\u001b[0m\u001b[0mappend\u001b[0m\u001b[1;33m(\u001b[0m\u001b[0mline\u001b[0m\u001b[1;33m)\u001b[0m\u001b[1;33m\u001b[0m\u001b[1;33m\u001b[0m\u001b[0m\n",
      "\u001b[1;32m~\\AppData\\Local\\Continuum\\anaconda3\\lib\\site-packages\\matplotlib\\axes\\_base.py\u001b[0m in \u001b[0;36m_grab_next_args\u001b[1;34m(self, *args, **kwargs)\u001b[0m\n\u001b[0;32m    391\u001b[0m                 \u001b[0mthis\u001b[0m \u001b[1;33m+=\u001b[0m \u001b[0margs\u001b[0m\u001b[1;33m[\u001b[0m\u001b[1;36m0\u001b[0m\u001b[1;33m]\u001b[0m\u001b[1;33m,\u001b[0m\u001b[1;33m\u001b[0m\u001b[1;33m\u001b[0m\u001b[0m\n\u001b[0;32m    392\u001b[0m                 \u001b[0margs\u001b[0m \u001b[1;33m=\u001b[0m \u001b[0margs\u001b[0m\u001b[1;33m[\u001b[0m\u001b[1;36m1\u001b[0m\u001b[1;33m:\u001b[0m\u001b[1;33m]\u001b[0m\u001b[1;33m\u001b[0m\u001b[1;33m\u001b[0m\u001b[0m\n\u001b[1;32m--> 393\u001b[1;33m             \u001b[1;32myield\u001b[0m \u001b[1;32mfrom\u001b[0m \u001b[0mself\u001b[0m\u001b[1;33m.\u001b[0m\u001b[0m_plot_args\u001b[0m\u001b[1;33m(\u001b[0m\u001b[0mthis\u001b[0m\u001b[1;33m,\u001b[0m \u001b[0mkwargs\u001b[0m\u001b[1;33m)\u001b[0m\u001b[1;33m\u001b[0m\u001b[1;33m\u001b[0m\u001b[0m\n\u001b[0m\u001b[0;32m    394\u001b[0m \u001b[1;33m\u001b[0m\u001b[0m\n\u001b[0;32m    395\u001b[0m \u001b[1;33m\u001b[0m\u001b[0m\n",
      "\u001b[1;32m~\\AppData\\Local\\Continuum\\anaconda3\\lib\\site-packages\\matplotlib\\axes\\_base.py\u001b[0m in \u001b[0;36m_plot_args\u001b[1;34m(self, tup, kwargs)\u001b[0m\n\u001b[0;32m    368\u001b[0m             \u001b[0mx\u001b[0m\u001b[1;33m,\u001b[0m \u001b[0my\u001b[0m \u001b[1;33m=\u001b[0m \u001b[0mindex_of\u001b[0m\u001b[1;33m(\u001b[0m\u001b[0mtup\u001b[0m\u001b[1;33m[\u001b[0m\u001b[1;33m-\u001b[0m\u001b[1;36m1\u001b[0m\u001b[1;33m]\u001b[0m\u001b[1;33m)\u001b[0m\u001b[1;33m\u001b[0m\u001b[1;33m\u001b[0m\u001b[0m\n\u001b[0;32m    369\u001b[0m \u001b[1;33m\u001b[0m\u001b[0m\n\u001b[1;32m--> 370\u001b[1;33m         \u001b[0mx\u001b[0m\u001b[1;33m,\u001b[0m \u001b[0my\u001b[0m \u001b[1;33m=\u001b[0m \u001b[0mself\u001b[0m\u001b[1;33m.\u001b[0m\u001b[0m_xy_from_xy\u001b[0m\u001b[1;33m(\u001b[0m\u001b[0mx\u001b[0m\u001b[1;33m,\u001b[0m \u001b[0my\u001b[0m\u001b[1;33m)\u001b[0m\u001b[1;33m\u001b[0m\u001b[1;33m\u001b[0m\u001b[0m\n\u001b[0m\u001b[0;32m    371\u001b[0m \u001b[1;33m\u001b[0m\u001b[0m\n\u001b[0;32m    372\u001b[0m         \u001b[1;32mif\u001b[0m \u001b[0mself\u001b[0m\u001b[1;33m.\u001b[0m\u001b[0mcommand\u001b[0m \u001b[1;33m==\u001b[0m \u001b[1;34m'plot'\u001b[0m\u001b[1;33m:\u001b[0m\u001b[1;33m\u001b[0m\u001b[1;33m\u001b[0m\u001b[0m\n",
      "\u001b[1;32m~\\AppData\\Local\\Continuum\\anaconda3\\lib\\site-packages\\matplotlib\\axes\\_base.py\u001b[0m in \u001b[0;36m_xy_from_xy\u001b[1;34m(self, x, y)\u001b[0m\n\u001b[0;32m    229\u001b[0m         \u001b[1;32mif\u001b[0m \u001b[0mx\u001b[0m\u001b[1;33m.\u001b[0m\u001b[0mshape\u001b[0m\u001b[1;33m[\u001b[0m\u001b[1;36m0\u001b[0m\u001b[1;33m]\u001b[0m \u001b[1;33m!=\u001b[0m \u001b[0my\u001b[0m\u001b[1;33m.\u001b[0m\u001b[0mshape\u001b[0m\u001b[1;33m[\u001b[0m\u001b[1;36m0\u001b[0m\u001b[1;33m]\u001b[0m\u001b[1;33m:\u001b[0m\u001b[1;33m\u001b[0m\u001b[1;33m\u001b[0m\u001b[0m\n\u001b[0;32m    230\u001b[0m             raise ValueError(\"x and y must have same first dimension, but \"\n\u001b[1;32m--> 231\u001b[1;33m                              \"have shapes {} and {}\".format(x.shape, y.shape))\n\u001b[0m\u001b[0;32m    232\u001b[0m         \u001b[1;32mif\u001b[0m \u001b[0mx\u001b[0m\u001b[1;33m.\u001b[0m\u001b[0mndim\u001b[0m \u001b[1;33m>\u001b[0m \u001b[1;36m2\u001b[0m \u001b[1;32mor\u001b[0m \u001b[0my\u001b[0m\u001b[1;33m.\u001b[0m\u001b[0mndim\u001b[0m \u001b[1;33m>\u001b[0m \u001b[1;36m2\u001b[0m\u001b[1;33m:\u001b[0m\u001b[1;33m\u001b[0m\u001b[1;33m\u001b[0m\u001b[0m\n\u001b[0;32m    233\u001b[0m             raise ValueError(\"x and y can be no greater than 2-D, but have \"\n",
      "\u001b[1;31mValueError\u001b[0m: x and y must have same first dimension, but have shapes (12,) and (10,)"
     ]
    }
   ],
   "source": [
    "import glob\n",
    "import pandas as pd\n",
    "import numpy\n",
    "import matplotlib.pylab as plt\n",
    "import scipy\n",
    "import pylab\n",
    "\n",
    "print(\"Hello! Please provide your user name so the necessary files on this computer can be accessed.\")\n",
    "user_name = input()\n",
    "\n",
    "data_file_n = '/Users/' + user_name + '/Dropbox/CropProdLabKSU/Lab Analysis/VISIONlite Results/Nitrates'\n",
    "\n",
    "glob.os.chdir(data_file_n)\n",
    "\n",
    "AllNfiles = glob.glob(data_file_n + \"/*.csv\")\n",
    "\n",
    "for file in AllNfiles:\n",
    "    nit_df = pd.read_csv(file, header=0)\n",
    "    nit_df.rename(columns = {'Sample Name':'ID', '410 nm   [A]':'B'}, inplace=True)\n",
    "\n",
    "    nit_g = nit_df.groupby('ID')\n",
    "\n",
    "    nit_final=nit_df.merge(nit_g.mean(),on='ID')\n",
    "    nit_final2=nit_final.merge(abs(nit_g.max()-nit_g.min())/nit_g.max(), on='ID')\n",
    "    nit_final2.rename(columns = {'B':'Var', 'B_x':'Abs', 'B_y':'Mean'}, inplace=True)\n",
    "\n",
    "    c = (0,0,0,1500,1500,1500,3000,3000,3000,4500,4500,4500)\n",
    "    a = nit_final2.iloc[4:16, 1]\n",
    "    m = nit_final2.iloc[4:16, 2]\n",
    "\n",
    "    pylab.plot(c, a, \"ro\")\n",
    "    pylab.plot(c, m,'bx')\n",
    "    pylab.ylabel(\"Absorbance Value\")\n",
    "    pylab.xlabel(\"Concentration ppm\")\n",
    "\n",
    "    z = numpy.polyfit(c, m, 1, rcond=None, full=False, w=None, cov=False)\n",
    "    p = numpy.poly1d(z)\n",
    "    pylab.plot(c, p(c),\"g--\")\n",
    "    print(\"Nitrate Calibration Curve\")\n",
    "    pylab.show()\n",
    "    print(\"absorbance = %.6f(concentration) + %.6f\"%(z[0],z[1]))\n",
    "    print(\"concentration = (absorbance - %.6f) / %.6f\"%(z[1],z[0]))\n",
    "\n",
    "    x=z[1]\n",
    "    y=z[0]\n",
    "\n",
    "    Concentration = []\n",
    "\n",
    "    for key, row in nit_final2.iterrows():\n",
    "        if float(row['Var']) > 0.1:\n",
    "            Concentration.append('Error')\n",
    "        else:\n",
    "            Concentration.append(((float(row['Mean']) -x)/y).round(3))\n",
    "        \n",
    "    nit_final2[\"Concentration\"] = Concentration\n",
    "    nit_final2\n",
    "    Nitrate_final = nit_final2.drop(nit_final2.columns[[1, 2, 3]], axis=1)\n",
    "\n"
   ]
  },
  {
   "cell_type": "code",
   "execution_count": 109,
   "metadata": {},
   "outputs": [
    {
     "name": "stdout",
     "output_type": "stream",
     "text": [
      "Hello! Please provide your user name so the necessary files on this computer can be accessed.\n"
     ]
    },
    {
     "name": "stdin",
     "output_type": "stream",
     "text": [
      " rveenstra\n"
     ]
    },
    {
     "name": "stdout",
     "output_type": "stream",
     "text": [
      "Error: Unable to identify calibration curve.\n",
      "Error: Unable to identify calibration curve.\n",
      "Error: Unable to identify calibration curve.\n",
      "Nitrate Calibration Curves\n"
     ]
    },
    {
     "data": {
      "image/png": "[encoded data removed]",
      "text/plain": [
       "<Figure size 432x288 with 1 Axes>"
      ]
     },
     "metadata": {
      "needs_background": "light"
     },
     "output_type": "display_data"
    },
    {
     "name": "stdout",
     "output_type": "stream",
     "text": [
      "absorbance = 0.000103(concentration) + 0.006933\n",
      "concentration = (absorbance - 0.006933) / 0.000103\n",
      "Error: Unable to identify calibration curve.\n",
      "Error: Unable to identify calibration curve.\n",
      "Error: Unable to identify calibration curve.\n",
      "Error: Unable to identify calibration curve.\n",
      "Error: Unable to identify calibration curve.\n",
      "Error: Unable to identify calibration curve.\n",
      "Error: Unable to identify calibration curve.\n",
      "Error: Unable to identify calibration curve.\n",
      "Error: Unable to identify calibration curve.\n",
      "Error: Unable to identify calibration curve.\n",
      "Error: Unable to identify calibration curve.\n",
      "Error: Unable to identify calibration curve.\n",
      "Error: Unable to identify calibration curve.\n",
      "Error: Unable to identify calibration curve.\n",
      "Error: Unable to identify calibration curve.\n",
      "Error: Unable to identify calibration curve.\n",
      "Error: Unable to identify calibration curve.\n",
      "Error: Unable to identify calibration curve.\n",
      "Error: Unable to identify calibration curve.\n"
     ]
    }
   ],
   "source": [
    "import glob\n",
    "import pandas as pd\n",
    "import numpy\n",
    "import matplotlib.pylab as plt\n",
    "import scipy\n",
    "import pylab\n",
    "\n",
    "print(\"Hello! Please provide your user name so the necessary files on this computer can be accessed.\")\n",
    "user_name = input()\n",
    "\n",
    "data_file_n = '/Users/' + user_name + '/Dropbox/CropProdLabKSU/Lab Analysis/VISIONlite Results/Nitrates'\n",
    "\n",
    "glob.os.chdir(data_file_n)\n",
    "\n",
    "AllNfiles = glob.glob(data_file_n + \"/*.csv\")\n",
    "\n",
    "for file in AllNfiles:\n",
    "    nit_df = pd.read_csv(file, header=0)\n",
    "    nit_df.rename(columns = {'Sample Name':'ID', '410 nm   [A]':'B'}, inplace=True)\n",
    "\n",
    "    nit_g = nit_df.groupby('ID')\n",
    "\n",
    "    nit_final=nit_df.merge(nit_g.mean(),on='ID')\n",
    "    nit_final2=nit_final.merge(abs(nit_g.max()-nit_g.min())/nit_g.max(), on='ID')\n",
    "    nit_final2.rename(columns = {'B':'Var', 'B_x':'Abs', 'B_y':'Mean'}, inplace=True)\n",
    "\n",
    "    c = (0,0,0,1500,1500,1500,3000,3000,3000,4500,4500,4500)\n",
    "    a = nit_final2.iloc[4:16, 1]\n",
    "    m = nit_final2.iloc[4:16, 2]\n",
    "\n",
    "    nit_curve_val = nit_df.iloc[4:16, 0]\n",
    "    \n",
    "    if str(nit_curve_val[0:2].all()) == '0':\n",
    "    \n",
    "        try:\n",
    "            pylab.plot(c, a, \"ro\")\n",
    "            pylab.plot(c, m,'bx')\n",
    "            pylab.ylabel(\"Absorbance Value\")\n",
    "            pylab.xlabel(\"Concentration ppm\")\n",
    "\n",
    "            z = numpy.polyfit(c, m, 1, rcond=None, full=False, w=None, cov=False)\n",
    "            p = numpy.poly1d(z)\n",
    "            pylab.plot(c, p(c),\"g--\")\n",
    "            print(\"Nitrate Calibration Curves\")\n",
    "            pylab.show()\n",
    "            print(\"absorbance = %.6f(concentration) + %.6f\"%(z[0],z[1]))\n",
    "            print(\"concentration = (absorbance - %.6f) / %.6f\"%(z[1],z[0]))\n",
    "\n",
    "            x=z[1]\n",
    "            y=z[0]\n",
    "\n",
    "            Concentration = []\n",
    "\n",
    "            for key, row in nit_final2.iterrows():\n",
    "                if float(row['Var']) > 0.1:\n",
    "                    Concentration.append('Error')\n",
    "                else:\n",
    "                    Concentration.append(((float(row['Mean']) -x)/y).round(3))\n",
    "        \n",
    "            nit_final2[\"Concentration\"] = Concentration\n",
    "            nit_final2\n",
    "            Nitrate_final = nit_final2.drop(nit_final2.columns[[1, 2, 3]], axis=1)\n",
    "        except: ValueError\n",
    "        continue\n",
    "    else:\n",
    "        print(\"Error: Unable to identify calibration curve.\")"
   ]
  },
  {
   "cell_type": "code",
   "execution_count": 167,
   "metadata": {},
   "outputs": [
    {
     "name": "stdout",
     "output_type": "stream",
     "text": [
      "Hello! Please provide your user name so the necessary files on this computer can be accessed.\n"
     ]
    },
    {
     "name": "stdin",
     "output_type": "stream",
     "text": [
      " rveenstra\n"
     ]
    },
    {
     "name": "stdout",
     "output_type": "stream",
     "text": [
      "0.00\n",
      "<class 'str'>\n",
      "Calibration values not found. Unable to produce curve.\n",
      "0.00\n",
      "<class 'str'>\n",
      "Calibration values not found. Unable to produce curve.\n",
      "0.00\n",
      "<class 'str'>\n",
      "Calibration values not found. Unable to produce curve.\n",
      "0.00\n",
      "<class 'str'>\n",
      "Calibration values not found. Unable to produce curve.\n",
      "0.00\n",
      "<class 'str'>\n",
      "Calibration values not found. Unable to produce curve.\n",
      "0\n",
      "<class 'str'>\n",
      "Calibration values not found. Unable to produce curve.\n",
      "0.00\n",
      "<class 'str'>\n",
      "Calibration values not found. Unable to produce curve.\n",
      "0\n",
      "<class 'str'>\n",
      "Calibration values not found. Unable to produce curve.\n",
      "LIF-420\n",
      "<class 'str'>\n",
      "Calibration values not found. Unable to produce curve.\n",
      "0.00\n",
      "<class 'str'>\n",
      "Calibration values not found. Unable to produce curve.\n",
      "0.00\n",
      "<class 'str'>\n",
      "Calibration values not found. Unable to produce curve.\n",
      "0.00\n",
      "<class 'str'>\n",
      "Calibration values not found. Unable to produce curve.\n",
      "0.00\n",
      "<class 'str'>\n",
      "Calibration values not found. Unable to produce curve.\n",
      "0.00\n",
      "<class 'str'>\n",
      "Calibration values not found. Unable to produce curve.\n",
      "0.00\n",
      "<class 'str'>\n",
      "Calibration values not found. Unable to produce curve.\n",
      "0.00\n",
      "<class 'str'>\n",
      "Calibration values not found. Unable to produce curve.\n",
      "0.00\n",
      "<class 'str'>\n",
      "Calibration values not found. Unable to produce curve.\n",
      "0.00\n",
      "<class 'str'>\n",
      "Calibration values not found. Unable to produce curve.\n",
      "0.00\n",
      "<class 'str'>\n",
      "Calibration values not found. Unable to produce curve.\n",
      "1\n",
      "<class 'str'>\n",
      "Calibration values not found. Unable to produce curve.\n",
      "0.00\n",
      "<class 'str'>\n",
      "Calibration values not found. Unable to produce curve.\n",
      "0\n",
      "<class 'str'>\n",
      "Calibration values not found. Unable to produce curve.\n",
      "0.00\n",
      "<class 'str'>\n",
      "Calibration values not found. Unable to produce curve.\n",
      "0.00\n",
      "<class 'str'>\n",
      "Calibration values not found. Unable to produce curve.\n",
      "0.00\n",
      "<class 'str'>\n",
      "Calibration values not found. Unable to produce curve.\n",
      "0.00\n",
      "<class 'str'>\n",
      "Calibration values not found. Unable to produce curve.\n",
      "0.00\n",
      "<class 'str'>\n",
      "Calibration values not found. Unable to produce curve.\n",
      "0.00\n",
      "<class 'str'>\n",
      "Calibration values not found. Unable to produce curve.\n"
     ]
    }
   ],
   "source": [
    "import glob\n",
    "import pandas as pd\n",
    "import numpy\n",
    "import matplotlib.pylab as plt\n",
    "import scipy\n",
    "import pylab\n",
    "\n",
    "print(\"Hello! Please provide your user name so the necessary files on this computer can be accessed.\")\n",
    "user_name = input()\n",
    "\n",
    "data_file_u = '/Users/' + user_name + '/Dropbox/CropProdLabKSU/Lab Analysis/VISIONlite Results/Ureides'\n",
    "\n",
    "glob.os.chdir(data_file_u)\n",
    "\n",
    "AllUfiles = glob.glob(data_file_u + \"/*.csv\")\n",
    "\n",
    "for file in AllUfiles:\n",
    "    ur_df = pd.read_csv(file, header=0)\n",
    "    ur_df.rename(columns = {'Sample Name':'ID', '535 nm   [A]':'B'}, inplace=True)\n",
    "    \n",
    "    print(str(ur_df.iloc[4:7, 0].values.all()))\n",
    "    print(type(str(ur_df.iloc[4:7, 0].values.all())))\n",
    "    if str(ur_df.iloc[4:7, 0].values.any()) == ['0.00']:\n",
    "    \n",
    "        try:\n",
    "            ur_g = ur_df.groupby('ID')\n",
    "\n",
    "            ur_final=ur_df.merge(ur_g.mean(),on='ID')\n",
    "            ur_final2=ur_final.merge(abs(ur_g.max()-ur_g.min())/ur_g.max(), on='ID')\n",
    "            ur_final2.rename(columns = {'B':'Var', 'B_x':'Abs', 'B_y':'Mean'}, inplace=True)\n",
    "\n",
    "            c_u = [0,0,0,549.5825955,549.5825955,549.5825955,1099.165191,1099.165191,1099.165191,4396.660764,4396.660764,4396.660764]\n",
    "            a_u = ur_final2.iloc[4:16, 1]\n",
    "            m_u = ur_final2.iloc[4:16, 2]\n",
    "    \n",
    "            pylab.plot(c_u, a_u, \"ro\")\n",
    "            pylab.plot(c_u, m_u,'bx')\n",
    "            pylab.ylabel(\"Absorbance Value\")\n",
    "            pylab.xlabel(\"Concentration ppm\")\n",
    "\n",
    "            z_u = numpy.polyfit(c_u, m_u, 1, rcond=None, full=False, w=None, cov=False)\n",
    "            p_u = numpy.poly1d(z_u)\n",
    "            pylab.plot(c_u, p_u(c_u),\"g--\")\n",
    "            print(\"Ureide Calibration Curves\")\n",
    "            pylab.show()\n",
    "            print(\"absorbance = %.6f(concentration) + %.6f\"%(z_u[0],z_u[1]))\n",
    "            print(\"concentration = (absorbance - %.6f) / %.6f\"%(z_u[1],z_u[0]))\n",
    "\n",
    "            x_u=z_u[1]\n",
    "            y_u=z_u[0]\n",
    "\n",
    "            Concentration_u = []\n",
    "\n",
    "            for key, row in ur_final2.iterrows():\n",
    "                if float(row['Var']) > 0.1:\n",
    "                    Concentration_u.append('Error')\n",
    "                else:\n",
    "                    Concentration_u.append(((float(row['Mean']) -x_u)/y_u).round(3))\n",
    "        \n",
    "            ur_final2[\"Concentration\"] = Concentration_u\n",
    "            ur_final2\n",
    "            Ureide_final = ur_final2.drop(ur_final2.columns[[1, 2, 3]], axis=1)\n",
    "        except (TypeError, ValueError):\n",
    "            continue\n",
    "    \n",
    "    else:\n",
    "        print(\"Calibration values not found. Unable to produce curve.\")"
   ]
  },
  {
   "cell_type": "code",
   "execution_count": 92,
   "metadata": {},
   "outputs": [
    {
     "name": "stdout",
     "output_type": "stream",
     "text": [
      "4    0\n",
      "5    0\n",
      "6    0\n",
      "Name: ID, dtype: object\n"
     ]
    }
   ],
   "source": [
    "print(ur_curve_val[0:3])"
   ]
  },
  {
   "cell_type": "code",
   "execution_count": 102,
   "metadata": {},
   "outputs": [
    {
     "name": "stdout",
     "output_type": "stream",
     "text": [
      "Curve!\n"
     ]
    }
   ],
   "source": [
    "if str(ur_curve_val[0:3].all()) == '0':\n",
    "    print(\"Curve!\")\n",
    "else:\n",
    "    print(\"?\")"
   ]
  },
  {
   "cell_type": "code",
   "execution_count": 151,
   "metadata": {},
   "outputs": [
    {
     "data": {
      "text/plain": [
       "'0'"
      ]
     },
     "execution_count": 151,
     "metadata": {},
     "output_type": "execute_result"
    }
   ],
   "source": [
    "str(ur_df.iloc[4:7, 0].values.all())"
   ]
  },
  {
   "cell_type": "code",
   "execution_count": null,
   "metadata": {},
   "outputs": [],
   "source": []
  }
 ],
 "metadata": {
  "kernelspec": {
   "display_name": "Python 3",
   "language": "python",
   "name": "python3"
  },
  "language_info": {
   "codemirror_mode": {
    "name": "ipython",
    "version": 3
   },
   "file_extension": ".py",
   "mimetype": "text/x-python",
   "name": "python",
   "nbconvert_exporter": "python",
   "pygments_lexer": "ipython3",
   "version": "3.7.1"
  }
 },
 "nbformat": 4,
 "nbformat_minor": 2
}
