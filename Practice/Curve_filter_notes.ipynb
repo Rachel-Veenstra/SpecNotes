{
 "cells": [
  {
   "cell_type": "code",
   "execution_count": 13,
   "metadata": {},
   "outputs": [
    {
     "name": "stdout",
     "output_type": "stream",
     "text": [
      "Warning: Calibration Data Unreliable\n",
      "The variance between readings for your curve:\n",
      "{0.023936170212765832, 0.008438818565400852, 0.007589447054571544}\n"
     ]
    },
    {
     "name": "stdin",
     "output_type": "stream",
     "text": [
      "Do you wish to continue? no\n"
     ]
    },
    {
     "name": "stdout",
     "output_type": "stream",
     "text": [
      "Warning: Calibration Data Unreliable\n",
      "The variance between readings for your curve:\n",
      "{0.023936170212765832, 0.008438818565400852, 0.007589447054571544}\n"
     ]
    },
    {
     "name": "stdin",
     "output_type": "stream",
     "text": [
      "Do you wish to continue? no\n"
     ]
    },
    {
     "name": "stdout",
     "output_type": "stream",
     "text": [
      "Warning: Calibration Data Unreliable\n",
      "The variance between readings for your curve:\n",
      "{0.023936170212765832, 0.008438818565400852, 0.007589447054571544}\n"
     ]
    },
    {
     "name": "stdin",
     "output_type": "stream",
     "text": [
      "Do you wish to continue? mo\n"
     ]
    }
   ],
   "source": [
    "import glob\n",
    "import pandas as pd\n",
    "import numpy\n",
    "import matplotlib.pylab as plt\n",
    "\n",
    "path = str(glob.os.getcwd())\n",
    "\n",
    "user = path.split('\\\\')[2]\n",
    "\n",
    "folder = 'Ureides'\n",
    "\n",
    "data_file_u = '/Users/' + user + '/Dropbox/CropProdLabKSU/Lab Analysis/VISIONlite Results/' + folder\n",
    "\n",
    "glob.os.chdir(data_file_u)\n",
    "\n",
    "ur_df = pd.read_csv('LI FG Missed Samples12-07-18.csv', header=0)\n",
    "ur_df.rename(columns = {'Sample Name':'ID', '535 nm   [A]':'B'}, inplace=True)\n",
    "    \n",
    "ur_df = ur_df[['ID', 'B']]\n",
    "    \n",
    "ur_g = ur_df.groupby('ID')\n",
    "\n",
    "ur_final=ur_df.merge(ur_g.mean(),on='ID')\n",
    "ur_final2=ur_final.merge(abs(ur_g.max()-ur_g.min())/ur_g.max(), on='ID')\n",
    "ur_final2.rename(columns = {'B':'Var', 'B_x':'Abs', 'B_y':'Mean'}, inplace=True)\n",
    "\n",
    "c_u = (0,0,0,549.6,549.6,549.6,1099.2,1099.2,1099.2,4396.7,4396.7,4396.7)\n",
    "a_u = ur_final2.iloc[4:16, 1]\n",
    "m_u = ur_final2.iloc[4:16, 2]\n",
    "\n",
    "ur_curve_val = ur_df.iloc[4:16, 0]\n",
    "\n",
    "ur_curve_var = set(ur_final2.iloc[7:16, 3])\n",
    "\n",
    "lbreak = False\n",
    "\n",
    "for i in ur_curve_var:\n",
    "    for i in ur_curve_var:\n",
    "\n",
    "        if i < 0.10:\n",
    "    #print(file)\n",
    "            print(\"Warning: Calibration Data Unreliable\")\n",
    "            print(\"The variance between readings for your curve:\")\n",
    "            print(ur_curve_var)\n",
    "            permission = (input(\"Do you wish to continue?\")).upper()\n",
    "            if permission == 'YES':\n",
    "                print('YAY!')\n",
    "            else:\n",
    "                lbreak = True\n",
    "            \n",
    "    else:\n",
    "        print('Yaya')"
   ]
  },
  {
   "cell_type": "code",
   "execution_count": 7,
   "metadata": {},
   "outputs": [
    {
     "data": {
      "text/plain": [
       "7     False\n",
       "8     False\n",
       "9     False\n",
       "10    False\n",
       "11    False\n",
       "12    False\n",
       "13    False\n",
       "14    False\n",
       "15    False\n",
       "Name: Var, dtype: bool"
      ]
     },
     "execution_count": 7,
     "metadata": {},
     "output_type": "execute_result"
    }
   ],
   "source": [
    "ur_curve_var[3:12] > 0.1"
   ]
  }
 ],
 "metadata": {
  "kernelspec": {
   "display_name": "Python 3",
   "language": "python",
   "name": "python3"
  },
  "language_info": {
   "codemirror_mode": {
    "name": "ipython",
    "version": 3
   },
   "file_extension": ".py",
   "mimetype": "text/x-python",
   "name": "python",
   "nbconvert_exporter": "python",
   "pygments_lexer": "ipython3",
   "version": "3.7.1"
  }
 },
 "nbformat": 4,
 "nbformat_minor": 2
}
